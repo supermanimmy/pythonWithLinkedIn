{
 "cells": [
  {
   "cell_type": "markdown",
   "id": "fd610f08",
   "metadata": {},
   "source": [
    "# Chapter 5- Basic Math and Statistics\n",
    "## Segment 5- Starting with parametric methods in pandas and scipy"
   ]
  },
  {
   "cell_type": "code",
   "execution_count": 2,
   "id": "a18bef59",
   "metadata": {},
   "outputs": [],
   "source": [
    "import pandas as pd\n",
    "import numpy as np\n",
    "\n",
    "import matplotlib.pyplot as plt\n",
    "import seaborn as sb\n",
    "from pylab import rcParams\n",
    "\n",
    "import scipy\n",
    "from scipy.stats.stats import pearsonr"
   ]
  },
  {
   "cell_type": "code",
   "execution_count": 5,
   "id": "af7f3150",
   "metadata": {},
   "outputs": [],
   "source": [
    "%matplotlib inline\n",
    "rcParams['figure.figsize'] = 8,4\n",
    "plt.style.use('seaborn-whitegrid')"
   ]
  },
  {
   "cell_type": "markdown",
   "id": "2c60a796",
   "metadata": {},
   "source": [
    "## The Pearson Correlation"
   ]
  },
  {
   "cell_type": "code",
   "execution_count": 6,
   "id": "7fa334b4",
   "metadata": {},
   "outputs": [],
   "source": [
    "address = 'C:/Users/imran/OneDrive/Documents/GitHub/pythonLinkedIn/pythonWithLinkedIn/DS Essential Training 1/Data/mtcars.csv'\n",
    "\n",
    "#Import the data\n",
    "cars = pd.read_csv(address)\n",
    "\n",
    "#Name the columns\n",
    "cars.columns = ['car_names', 'mpg', 'cyl', 'disp', 'hp', 'drat', 'wt', 'qsec', 'vs', 'am', 'gear', 'carb' ]\n"
   ]
  },
  {
   "cell_type": "code",
   "execution_count": null,
   "id": "b74f5a13",
   "metadata": {},
   "outputs": [],
   "source": []
  },
  {
   "cell_type": "code",
   "execution_count": null,
   "id": "daa67f72",
   "metadata": {},
   "outputs": [],
   "source": []
  },
  {
   "cell_type": "code",
   "execution_count": null,
   "id": "dfaf7b28",
   "metadata": {},
   "outputs": [],
   "source": []
  },
  {
   "cell_type": "code",
   "execution_count": null,
   "id": "6f875471",
   "metadata": {},
   "outputs": [],
   "source": []
  },
  {
   "cell_type": "code",
   "execution_count": null,
   "id": "62bda81c",
   "metadata": {},
   "outputs": [],
   "source": []
  },
  {
   "cell_type": "code",
   "execution_count": null,
   "id": "e2ebd4df",
   "metadata": {},
   "outputs": [],
   "source": []
  }
 ],
 "metadata": {
  "kernelspec": {
   "display_name": "Python 3",
   "language": "python",
   "name": "python3"
  },
  "language_info": {
   "codemirror_mode": {
    "name": "ipython",
    "version": 3
   },
   "file_extension": ".py",
   "mimetype": "text/x-python",
   "name": "python",
   "nbconvert_exporter": "python",
   "pygments_lexer": "ipython3",
   "version": "3.8.3"
  }
 },
 "nbformat": 4,
 "nbformat_minor": 5
}
