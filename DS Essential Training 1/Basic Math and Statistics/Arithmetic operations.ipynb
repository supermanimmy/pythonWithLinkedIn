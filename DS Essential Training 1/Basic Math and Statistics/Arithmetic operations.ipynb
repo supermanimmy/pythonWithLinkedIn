{
 "cells": [
  {
   "cell_type": "markdown",
   "id": "4c98346a",
   "metadata": {},
   "source": [
    "# Chapter 5- Basic Math and Statistics\n",
    "\n",
    "## Segment 1- Using Numpy to perform arithmetic operations on data"
   ]
  },
  {
   "cell_type": "code",
   "execution_count": 1,
   "id": "22171385",
   "metadata": {},
   "outputs": [],
   "source": [
    "import numpy as np\n",
    "from numpy.random import randn"
   ]
  },
  {
   "cell_type": "code",
   "execution_count": 2,
   "id": "cef465cc",
   "metadata": {},
   "outputs": [],
   "source": [
    "np.set_printoptions(precision=2)"
   ]
  },
  {
   "cell_type": "markdown",
   "id": "611cf997",
   "metadata": {},
   "source": [
    "## Creating Arrays\n",
    "\n",
    "### Creating arrays using a list"
   ]
  },
  {
   "cell_type": "code",
   "execution_count": 3,
   "id": "c5dfc687",
   "metadata": {},
   "outputs": [
    {
     "data": {
      "text/plain": [
       "array([1, 2, 3, 4, 5, 6])"
      ]
     },
     "execution_count": 3,
     "metadata": {},
     "output_type": "execute_result"
    }
   ],
   "source": [
    "a = np.array([1,2,3,4,5,6])\n",
    "a"
   ]
  },
  {
   "cell_type": "code",
   "execution_count": 4,
   "id": "622409ae",
   "metadata": {},
   "outputs": [
    {
     "data": {
      "text/plain": [
       "array([[10, 20, 30],\n",
       "       [40, 50, 60]])"
      ]
     },
     "execution_count": 4,
     "metadata": {},
     "output_type": "execute_result"
    }
   ],
   "source": [
    "b = np.array([[10,20,30], [40,50,60]])\n",
    "b"
   ]
  },
  {
   "cell_type": "markdown",
   "id": "63930344",
   "metadata": {},
   "source": [
    "### Creating arrays via assignment"
   ]
  },
  {
   "cell_type": "code",
   "execution_count": 6,
   "id": "66c5d9a7",
   "metadata": {},
   "outputs": [
    {
     "data": {
      "text/plain": [
       "array([  8.22,  36.97, -30.23, -21.28, -34.45,  -8.  ])"
      ]
     },
     "execution_count": 6,
     "metadata": {},
     "output_type": "execute_result"
    }
   ],
   "source": [
    "np.random.seed(25)\n",
    "c = 36*np.random.randn(6)\n",
    "c"
   ]
  },
  {
   "cell_type": "code",
   "execution_count": 7,
   "id": "aff467aa",
   "metadata": {},
   "outputs": [
    {
     "data": {
      "text/plain": [
       "array([ 1,  2,  3,  4,  5,  6,  7,  8,  9, 10, 11, 12, 13, 14, 15, 16, 17,\n",
       "       18, 19, 20, 21, 22, 23, 24, 25, 26, 27, 28, 29, 30, 31, 32, 33, 34])"
      ]
     },
     "execution_count": 7,
     "metadata": {},
     "output_type": "execute_result"
    }
   ],
   "source": [
    "d = np.arange(1,35)\n",
    "d"
   ]
  },
  {
   "cell_type": "markdown",
   "id": "9f2ea183",
   "metadata": {},
   "source": [
    "### Performing arithmetic on arrays"
   ]
  },
  {
   "cell_type": "code",
   "execution_count": 8,
   "id": "a3123e44",
   "metadata": {},
   "outputs": [
    {
     "data": {
      "text/plain": [
       "array([10, 20, 30, 40, 50, 60])"
      ]
     },
     "execution_count": 8,
     "metadata": {},
     "output_type": "execute_result"
    }
   ],
   "source": [
    "a*10"
   ]
  },
  {
   "cell_type": "code",
   "execution_count": 9,
   "id": "68d5eee6",
   "metadata": {},
   "outputs": [
    {
     "data": {
      "text/plain": [
       "array([  9.22,  38.97, -27.23, -17.28, -29.45,  -2.  ])"
      ]
     },
     "execution_count": 9,
     "metadata": {},
     "output_type": "execute_result"
    }
   ],
   "source": [
    "c + a"
   ]
  },
  {
   "cell_type": "code",
   "execution_count": 10,
   "id": "863e6bb5",
   "metadata": {},
   "outputs": [
    {
     "data": {
      "text/plain": [
       "array([  7.22,  34.97, -33.23, -25.28, -39.45, -14.  ])"
      ]
     },
     "execution_count": 10,
     "metadata": {},
     "output_type": "execute_result"
    }
   ],
   "source": [
    "c-a"
   ]
  },
  {
   "cell_type": "code",
   "execution_count": 11,
   "id": "1eb62b01",
   "metadata": {},
   "outputs": [
    {
     "data": {
      "text/plain": [
       "array([   8.22,   73.94,  -90.68,  -85.13, -172.24,  -48.02])"
      ]
     },
     "execution_count": 11,
     "metadata": {},
     "output_type": "execute_result"
    }
   ],
   "source": [
    "c*a"
   ]
  },
  {
   "cell_type": "code",
   "execution_count": 12,
   "id": "6ed08b52",
   "metadata": {},
   "outputs": [
    {
     "data": {
      "text/plain": [
       "array([  8.22,  18.48, -10.08,  -5.32,  -6.89,  -1.33])"
      ]
     },
     "execution_count": 12,
     "metadata": {},
     "output_type": "execute_result"
    }
   ],
   "source": [
    "c/a"
   ]
  },
  {
   "cell_type": "code",
   "execution_count": null,
   "id": "29a02400",
   "metadata": {},
   "outputs": [],
   "source": []
  }
 ],
 "metadata": {
  "kernelspec": {
   "display_name": "Python 3",
   "language": "python",
   "name": "python3"
  },
  "language_info": {
   "codemirror_mode": {
    "name": "ipython",
    "version": 3
   },
   "file_extension": ".py",
   "mimetype": "text/x-python",
   "name": "python",
   "nbconvert_exporter": "python",
   "pygments_lexer": "ipython3",
   "version": "3.8.3"
  }
 },
 "nbformat": 4,
 "nbformat_minor": 5
}
