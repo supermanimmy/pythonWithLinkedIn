{
 "cells": [
  {
   "cell_type": "markdown",
   "id": "014101cc",
   "metadata": {},
   "source": [
    "# Part 3 Data visualisation 101\n",
    "\n",
    "## Three Different Data Visualisation Types\n",
    "\n",
    ">1) Data Storytelling - for presentations to organisational decision makers <br>\n",
    ">2) Data showcasing - for presentations to analysts, scientists, mathematicians, and engineers<br>\n",
    ">3) Data art- for presentations to activists or to the general public<br>"
   ]
  },
  {
   "cell_type": "code",
   "execution_count": null,
   "id": "80dc28a6",
   "metadata": {},
   "outputs": [],
   "source": []
  },
  {
   "cell_type": "code",
   "execution_count": null,
   "id": "417cb8e6",
   "metadata": {},
   "outputs": [],
   "source": []
  }
 ],
 "metadata": {
  "kernelspec": {
   "display_name": "Python 3",
   "language": "python",
   "name": "python3"
  },
  "language_info": {
   "codemirror_mode": {
    "name": "ipython",
    "version": 3
   },
   "file_extension": ".py",
   "mimetype": "text/x-python",
   "name": "python",
   "nbconvert_exporter": "python",
   "pygments_lexer": "ipython3",
   "version": "3.8.3"
  }
 },
 "nbformat": 4,
 "nbformat_minor": 5
}
