{
 "cells": [
  {
   "cell_type": "markdown",
   "id": "6c99f54e",
   "metadata": {},
   "source": [
    "# Chapter 4 - Clustering Models\n",
    "## Segment 2 - Hierarchial methods\n",
    "\n",
    "### Setting up for clustering analysis"
   ]
  },
  {
   "cell_type": "code",
   "execution_count": 5,
   "id": "cf05867d",
   "metadata": {},
   "outputs": [],
   "source": [
    "import numpy as np\n",
    "import pandas as pd\n",
    "\n",
    "import matplotlib.pyplot as plt\n",
    "from pylab import rcParams\n",
    "import seaborn as sb\n",
    "\n",
    "import sklearn\n",
    "import sklearn.metrics as sm\n"
   ]
  },
  {
   "cell_type": "code",
   "execution_count": 6,
   "id": "6dced404",
   "metadata": {},
   "outputs": [],
   "source": [
    "from sklearn.cluster import AgglomerativeClustering\n",
    "import scipy\n",
    "from scipy.cluster.hierarchy import dendrogram, linkage\n",
    "\n",
    "from scipy.cluster.hierarchy import fcluster\n",
    "from scipy.cluster.hierarchy import cophenet\n",
    "from scipy.spatial.distance import pdist"
   ]
  },
  {
   "cell_type": "code",
   "execution_count": 7,
   "id": "235ac05d",
   "metadata": {},
   "outputs": [],
   "source": [
    "np.set_printoptions(precision=4, suppress=True)\n",
    "plt.figure(figsize=(10,3))\n",
    "%matplotlib inline\n",
    "plt.style.use('seaborn-whitegrid')"
   ]
  },
  {
   "cell_type": "code",
   "execution_count": 9,
   "id": "f578f468",
   "metadata": {},
   "outputs": [],
   "source": [
    "address = 'C:/Users/imran/OneDrive/Documents/GitHub/pythonLinkedIn/pythonWithLinkedIn/DS Essential Training 2/Data/mtcars.csv'\n",
    "cars = pd.read_csv(address)\n",
    "\n",
    "cars.columns = ['car_names', 'mpg', 'cyl', 'disp', 'hp', 'drat', 'wt', 'qsec', 'vs', 'am', 'gear', 'carb' ]\n",
    "\n",
    "x = cars[['mpg', 'disp', 'hp', 'wt']].values\n",
    "y = cars.iloc[:,(9)].values"
   ]
  },
  {
   "cell_type": "markdown",
   "id": "8ffce84d",
   "metadata": {},
   "source": [
    "## Using scipy to generate dendrograms"
   ]
  },
  {
   "cell_type": "code",
   "execution_count": 11,
   "id": "345deed5",
   "metadata": {},
   "outputs": [
    {
     "data": {
      "text/plain": [
       "array([[  0.    ,   1.    ,   0.255 ,   2.    ],\n",
       "       [ 11.    ,  12.    ,   0.9621,   2.    ],\n",
       "       [  9.    ,  10.    ,   1.4   ,   2.    ],\n",
       "       [ 13.    ,  33.    ,   1.9103,   3.    ],\n",
       "       [ 17.    ,  25.    ,   5.1157,   2.    ],\n",
       "       [ 20.    ,  26.    ,   7.5097,   2.    ],\n",
       "       [  6.    ,  23.    ,  10.0535,   2.    ],\n",
       "       [ 19.    ,  36.    ,  10.1666,   3.    ],\n",
       "       [ 21.    ,  22.    ,  14.0035,   2.    ],\n",
       "       [  2.    ,  37.    ,  14.1771,   3.    ],\n",
       "       [ 14.    ,  15.    ,  15.6215,   2.    ],\n",
       "       [ 18.    ,  39.    ,  16.7875,   4.    ],\n",
       "       [ 31.    ,  41.    ,  19.8678,   4.    ],\n",
       "       [ 32.    ,  34.    ,  21.6097,   4.    ],\n",
       "       [ 28.    ,  38.    ,  22.5473,   3.    ],\n",
       "       [  8.    ,  44.    ,  29.8447,   5.    ],\n",
       "       [  3.    ,   5.    ,  33.5403,   2.    ],\n",
       "       [ 16.    ,  42.    ,  38.201 ,   3.    ],\n",
       "       [  4.    ,  24.    ,  40.0052,   2.    ],\n",
       "       [ 27.    ,  47.    ,  41.616 ,   6.    ],\n",
       "       [  7.    ,  51.    ,  62.3703,   7.    ],\n",
       "       [ 35.    ,  40.    ,  71.6674,   5.    ],\n",
       "       [ 29.    ,  45.    ,  77.7256,   5.    ],\n",
       "       [ 30.    ,  46.    , 121.0837,   4.    ],\n",
       "       [ 52.    ,  54.    , 124.075 ,  12.    ],\n",
       "       [ 48.    ,  53.    , 131.1017,   7.    ],\n",
       "       [ 49.    ,  50.    , 136.5584,   5.    ],\n",
       "       [ 43.    ,  56.    , 189.6827,  16.    ],\n",
       "       [ 55.    ,  58.    , 236.6445,   9.    ],\n",
       "       [ 57.    ,  60.    , 388.9698,  16.    ],\n",
       "       [ 59.    ,  61.    , 955.2508,  32.    ]])"
      ]
     },
     "execution_count": 11,
     "metadata": {},
     "output_type": "execute_result"
    }
   ],
   "source": [
    "z = linkage(x, 'ward')\n",
    "z"
   ]
  },
  {
   "cell_type": "code",
   "execution_count": 13,
   "id": "172bc0e5",
   "metadata": {
    "scrolled": true
   },
   "outputs": [
    {
     "data": {
      "image/png": "[encoded data removed]",
      "text/plain": [
       "<Figure size 432x288 with 1 Axes>"
      ]
     },
     "metadata": {},
     "output_type": "display_data"
    }
   ],
   "source": [
    "dendrogram(z, truncate_mode='lastp', p=12, leaf_rotation=45, \n",
    "           leaf_font_size=15, show_contracted=True)\n",
    "plt.title('Truncated Hierarchical Clustering Diagram')\n",
    "plt.xlabel('Cluster Size')\n",
    "plt.ylabel('Distance')\n",
    "\n",
    "plt.axhline(y=500)\n",
    "plt.axhline(y=150)\n",
    "plt.show()"
   ]
  },
  {
   "cell_type": "markdown",
   "id": "40e70aa4",
   "metadata": {},
   "source": [
    "## Generating hierarchical clusters"
   ]
  },
  {
   "cell_type": "code",
   "execution_count": 15,
   "id": "d6f352a7",
   "metadata": {},
   "outputs": [
    {
     "data": {
      "text/plain": [
       "0.78125"
      ]
     },
     "execution_count": 15,
     "metadata": {},
     "output_type": "execute_result"
    }
   ],
   "source": [
    "k = 2\n",
    "Hclustering = AgglomerativeClustering(n_clusters=k, affinity='euclidean',\n",
    "                       linkage='ward')\n",
    "Hclustering.fit(x)\n",
    "sm.accuracy_score(y, Hclustering.labels_)"
   ]
  },
  {
   "cell_type": "code",
   "execution_count": 16,
   "id": "df3a5910",
   "metadata": {},
   "outputs": [
    {
     "data": {
      "text/plain": [
       "0.78125"
      ]
     },
     "execution_count": 16,
     "metadata": {},
     "output_type": "execute_result"
    }
   ],
   "source": [
    "Hclustering = AgglomerativeClustering(n_clusters=k, affinity='euclidean',\n",
    "                       linkage='average')\n",
    "Hclustering.fit(x)\n",
    "sm.accuracy_score(y, Hclustering.labels_)"
   ]
  },
  {
   "cell_type": "code",
   "execution_count": 17,
   "id": "7abec781",
   "metadata": {},
   "outputs": [
    {
     "data": {
      "text/plain": [
       "0.71875"
      ]
     },
     "execution_count": 17,
     "metadata": {},
     "output_type": "execute_result"
    }
   ],
   "source": [
    "Hclustering = AgglomerativeClustering(n_clusters=k, affinity='manhattan',\n",
    "                       linkage='average')\n",
    "Hclustering.fit(x)\n",
    "sm.accuracy_score(y, Hclustering.labels_)"
   ]
  },
  {
   "cell_type": "markdown",
   "id": "050b01c5",
   "metadata": {},
   "source": [
    "#### Euclidean affinity with average and ward linkage is performing the best out of the tests"
   ]
  },
  {
   "cell_type": "code",
   "execution_count": null,
   "id": "4947b25c",
   "metadata": {},
   "outputs": [],
   "source": []
  }
 ],
 "metadata": {
  "kernelspec": {
   "display_name": "Python 3",
   "language": "python",
   "name": "python3"
  },
  "language_info": {
   "codemirror_mode": {
    "name": "ipython",
    "version": 3
   },
   "file_extension": ".py",
   "mimetype": "text/x-python",
   "name": "python",
   "nbconvert_exporter": "python",
   "pygments_lexer": "ipython3",
   "version": "3.8.3"
  }
 },
 "nbformat": 4,
 "nbformat_minor": 5
}
