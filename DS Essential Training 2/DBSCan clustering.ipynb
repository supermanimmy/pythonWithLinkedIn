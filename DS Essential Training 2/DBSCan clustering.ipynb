{
 "cells": [
  {
   "cell_type": "markdown",
   "id": "c727116a",
   "metadata": {},
   "source": [
    "# Chapter 4- Clustering Models\n",
    "## Segment 3 - DBSCan clustering to identify outliers"
   ]
  },
  {
   "cell_type": "code",
   "execution_count": 1,
   "id": "7b79a1f2",
   "metadata": {},
   "outputs": [],
   "source": [
    "import pandas as pd\n",
    "\n",
    "import matplotlib.pyplot as plt\n",
    "from pylab import rcParams\n",
    "import seaborn as sb\n",
    "\n",
    "import sklearn\n",
    "from sklearn.cluster import DBSCAN\n",
    "from collections import Counter"
   ]
  },
  {
   "cell_type": "code",
   "execution_count": 2,
   "id": "4c0a4965",
   "metadata": {},
   "outputs": [],
   "source": [
    "%matplotlib inline\n",
    "rcParams['figure.figsize']= 6,5\n",
    "sb.set_style('whitegrid')"
   ]
  },
  {
   "cell_type": "markdown",
   "id": "4a49918b",
   "metadata": {},
   "source": [
    "## DBSCan clustering to identify outliers\n",
    "### Train your model and identify outliers"
   ]
  },
  {
   "cell_type": "code",
   "execution_count": 4,
   "id": "4db890f1",
   "metadata": {},
   "outputs": [
    {
     "data": {
      "text/html": [
       "<div>\n",
       "<style scoped>\n",
       "    .dataframe tbody tr th:only-of-type {\n",
       "        vertical-align: middle;\n",
       "    }\n",
       "\n",
       "    .dataframe tbody tr th {\n",
       "        vertical-align: top;\n",
       "    }\n",
       "\n",
       "    .dataframe thead th {\n",
       "        text-align: right;\n",
       "    }\n",
       "</style>\n",
       "<table border=\"1\" class=\"dataframe\">\n",
       "  <thead>\n",
       "    <tr style=\"text-align: right;\">\n",
       "      <th></th>\n",
       "      <th>Sepal Length</th>\n",
       "      <th>Sepal Width</th>\n",
       "      <th>Petal Length</th>\n",
       "      <th>Petal Width</th>\n",
       "      <th>Species</th>\n",
       "    </tr>\n",
       "  </thead>\n",
       "  <tbody>\n",
       "    <tr>\n",
       "      <th>0</th>\n",
       "      <td>5.1</td>\n",
       "      <td>3.5</td>\n",
       "      <td>1.4</td>\n",
       "      <td>0.2</td>\n",
       "      <td>setosa</td>\n",
       "    </tr>\n",
       "    <tr>\n",
       "      <th>1</th>\n",
       "      <td>4.9</td>\n",
       "      <td>3.0</td>\n",
       "      <td>1.4</td>\n",
       "      <td>0.2</td>\n",
       "      <td>setosa</td>\n",
       "    </tr>\n",
       "    <tr>\n",
       "      <th>2</th>\n",
       "      <td>4.7</td>\n",
       "      <td>3.2</td>\n",
       "      <td>1.3</td>\n",
       "      <td>0.2</td>\n",
       "      <td>setosa</td>\n",
       "    </tr>\n",
       "    <tr>\n",
       "      <th>3</th>\n",
       "      <td>4.6</td>\n",
       "      <td>3.1</td>\n",
       "      <td>1.5</td>\n",
       "      <td>0.2</td>\n",
       "      <td>setosa</td>\n",
       "    </tr>\n",
       "    <tr>\n",
       "      <th>4</th>\n",
       "      <td>5.0</td>\n",
       "      <td>3.6</td>\n",
       "      <td>1.4</td>\n",
       "      <td>0.2</td>\n",
       "      <td>setosa</td>\n",
       "    </tr>\n",
       "  </tbody>\n",
       "</table>\n",
       "</div>"
      ],
      "text/plain": [
       "   Sepal Length  Sepal Width  Petal Length  Petal Width Species\n",
       "0           5.1          3.5           1.4          0.2  setosa\n",
       "1           4.9          3.0           1.4          0.2  setosa\n",
       "2           4.7          3.2           1.3          0.2  setosa\n",
       "3           4.6          3.1           1.5          0.2  setosa\n",
       "4           5.0          3.6           1.4          0.2  setosa"
      ]
     },
     "execution_count": 4,
     "metadata": {},
     "output_type": "execute_result"
    }
   ],
   "source": [
    "address = 'C:/Users/imran/OneDrive/Documents/GitHub/pythonLinkedIn/pythonWithLinkedIn/DS Essential Training 2/Data/iris.data.csv'\n",
    "\n",
    "df = pd.read_csv(address,header=None, sep=',')\n",
    "df.columns=['Sepal Length', 'Sepal Width', 'Petal Length', 'Petal Width', 'Species' ]\n",
    "\n",
    "data = df.iloc[:,0:4].values\n",
    "target = df.iloc[:, 4].values\n",
    "\n",
    "df[:5]"
   ]
  },
  {
   "cell_type": "code",
   "execution_count": 9,
   "id": "304485ae",
   "metadata": {},
   "outputs": [
    {
     "data": {
      "text/plain": [
       "DBSCAN(eps=0.8, min_samples=19)"
      ]
     },
     "execution_count": 9,
     "metadata": {},
     "output_type": "execute_result"
    }
   ],
   "source": [
    "model = DBSCAN(eps=0.8,min_samples=19).fit(data)\n",
    "model"
   ]
  },
  {
   "cell_type": "markdown",
   "id": "49148781",
   "metadata": {},
   "source": [
    "### Visualising your results"
   ]
  },
  {
   "cell_type": "code",
   "execution_count": 10,
   "id": "1dee4fe3",
   "metadata": {},
   "outputs": [
    {
     "name": "stdout",
     "output_type": "stream",
     "text": [
      "Counter({1: 94, 0: 50, -1: 6})\n",
      "       0    1    2    3\n",
      "98   5.1  2.5  3.0  1.1\n",
      "105  7.6  3.0  6.6  2.1\n",
      "117  7.7  3.8  6.7  2.2\n",
      "118  7.7  2.6  6.9  2.3\n",
      "122  7.7  2.8  6.7  2.0\n",
      "131  7.9  3.8  6.4  2.0\n"
     ]
    }
   ],
   "source": [
    "outliers_df = pd.DataFrame(data)\n",
    "print(Counter(model.labels_))\n",
    "print(outliers_df[model.labels_ == -1])"
   ]
  },
  {
   "cell_type": "code",
   "execution_count": 13,
   "id": "efb7acbb",
   "metadata": {},
   "outputs": [
    {
     "data": {
      "text/plain": [
       "Text(0.5, 1.0, 'DBSCAN for Outlier Detection')"
      ]
     },
     "execution_count": 13,
     "metadata": {},
     "output_type": "execute_result"
    },
    {
     "data": {
      "image/png": "[encoded data removed]",
      "text/plain": [
       "<Figure size 432x360 with 1 Axes>"
      ]
     },
     "metadata": {},
     "output_type": "display_data"
    }
   ],
   "source": [
    "fig = plt.figure()\n",
    "ax = fig.add_axes([.1,.1,1,1])\n",
    "\n",
    "colors = model.labels_\n",
    "ax.scatter(data[:,2], data[:,1], c=colors, s=120)\n",
    "ax.set_xlabel('Petal Length')\n",
    "ax.set_ylabel('Sepal Width')\n",
    "plt.title('DBSCAN for Outlier Detection')"
   ]
  },
  {
   "cell_type": "code",
   "execution_count": null,
   "id": "49201c14",
   "metadata": {},
   "outputs": [],
   "source": []
  }
 ],
 "metadata": {
  "kernelspec": {
   "display_name": "Python 3",
   "language": "python",
   "name": "python3"
  },
  "language_info": {
   "codemirror_mode": {
    "name": "ipython",
    "version": 3
   },
   "file_extension": ".py",
   "mimetype": "text/x-python",
   "name": "python",
   "nbconvert_exporter": "python",
   "pygments_lexer": "ipython3",
   "version": "3.8.3"
  }
 },
 "nbformat": 4,
 "nbformat_minor": 5
}
