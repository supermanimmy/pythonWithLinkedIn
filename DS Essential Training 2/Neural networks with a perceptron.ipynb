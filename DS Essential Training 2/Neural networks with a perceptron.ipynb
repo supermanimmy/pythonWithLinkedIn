{
 "cells": [
  {
   "cell_type": "markdown",
   "id": "973cb99e",
   "metadata": {},
   "source": [
    "# Chapter 6 - Other Popular Machine Learning Methods\n",
    "\n",
    "## Segment 2 - A Neurral network with a Perceptron"
   ]
  },
  {
   "cell_type": "code",
   "execution_count": 1,
   "id": "aed410cd",
   "metadata": {},
   "outputs": [],
   "source": [
    "import numpy as np \n",
    "import pandas as pd \n",
    "import sklearn\n",
    "\n",
    "from pandas import Series, DataFrame\n",
    "from sklearn import datasets\n",
    "from sklearn.preprocessing import StandardScaler\n",
    "from sklearn.model_selection import train_test_split\n",
    "from sklearn.metrics import confusion_matrix, classification_report"
   ]
  },
  {
   "cell_type": "code",
   "execution_count": 2,
   "id": "c7fa3717",
   "metadata": {},
   "outputs": [],
   "source": [
    "#How to import the Perceptron\n",
    "from sklearn.linear_model import Perceptron"
   ]
  },
  {
   "cell_type": "code",
   "execution_count": 6,
   "id": "dbb9b344",
   "metadata": {},
   "outputs": [
    {
     "data": {
      "text/plain": [
       "array([[5.1, 3.5, 1.4, 0.2],\n",
       "       [4.9, 3. , 1.4, 0.2],\n",
       "       [4.7, 3.2, 1.3, 0.2],\n",
       "       [4.6, 3.1, 1.5, 0.2],\n",
       "       [5. , 3.6, 1.4, 0.2],\n",
       "       [5.4, 3.9, 1.7, 0.4],\n",
       "       [4.6, 3.4, 1.4, 0.3],\n",
       "       [5. , 3.4, 1.5, 0.2],\n",
       "       [4.4, 2.9, 1.4, 0.2],\n",
       "       [4.9, 3.1, 1.5, 0.1]])"
      ]
     },
     "execution_count": 6,
     "metadata": {},
     "output_type": "execute_result"
    }
   ],
   "source": [
    "iris = datasets.load_iris()\n",
    "X = iris.data \n",
    "y = iris.target\n",
    "\n",
    "X[:10,]"
   ]
  },
  {
   "cell_type": "code",
   "execution_count": 7,
   "id": "13d26ce9",
   "metadata": {},
   "outputs": [],
   "source": [
    "X_train, X_test, y_train, y_test = train_test_split(X, y, test_size=0.2)"
   ]
  },
  {
   "cell_type": "code",
   "execution_count": 8,
   "id": "cd5dd7b9",
   "metadata": {},
   "outputs": [],
   "source": [
    "standardize = StandardScaler()\n",
    "standardized_x_test = standardize.fit_transform(X_test)\n",
    "standardized_x_train= standardize.fit_transform(X_train)"
   ]
  },
  {
   "cell_type": "code",
   "execution_count": 10,
   "id": "4a770126",
   "metadata": {},
   "outputs": [
    {
     "data": {
      "text/plain": [
       "array([[ 0.41153542,  0.71793955,  1.17505109,  1.6168359 ],\n",
       "       [ 0.29615166, -0.61157813,  0.46528869,  0.68404596],\n",
       "       [-1.78075606,  0.45203601, -1.60485166, -1.44804534],\n",
       "       [ 0.18076789, -0.07977106,  0.34699495,  0.15102313],\n",
       "       [ 0.06538413, -2.20699934,  0.58358242,  0.28427884],\n",
       "       [ 0.87307047,  0.18613247,  0.40614182,  0.28427884],\n",
       "       [-0.28076715, -0.07977106,  0.11040749, -0.11548828],\n",
       "       [ 1.21922175,  0.45203601,  0.40614182,  0.15102313],\n",
       "       [-1.78075606, -0.07977106, -1.60485166, -1.44804534],\n",
       "       [ 1.44998928,  0.45203601,  1.17505109,  0.68404596]])"
      ]
     },
     "execution_count": 10,
     "metadata": {},
     "output_type": "execute_result"
    }
   ],
   "source": [
    "standardized_x_test[0:10,]"
   ]
  },
  {
   "cell_type": "code",
   "execution_count": 11,
   "id": "5862c2b4",
   "metadata": {},
   "outputs": [
    {
     "data": {
      "text/plain": [
       "Perceptron(eta0=0.15, max_iter=50, random_state=15)"
      ]
     },
     "execution_count": 11,
     "metadata": {},
     "output_type": "execute_result"
    }
   ],
   "source": [
    "perceptron = Perceptron(max_iter=50, eta0=0.15, tol=1e-3, random_state=15)\n",
    "perceptron.fit(standardized_x_train, y_train.ravel())"
   ]
  },
  {
   "cell_type": "code",
   "execution_count": 12,
   "id": "052304a1",
   "metadata": {},
   "outputs": [],
   "source": [
    "y_pred = perceptron.predict(standardized_x_test)"
   ]
  },
  {
   "cell_type": "code",
   "execution_count": 13,
   "id": "542cb9ea",
   "metadata": {},
   "outputs": [
    {
     "name": "stdout",
     "output_type": "stream",
     "text": [
      "[2 2 0 1 2 1 1 1 0 2 2 2 0 0 1 1 2 1 0 1 1 0 1 2 2 0 2 0 1 2]\n"
     ]
    }
   ],
   "source": [
    "print(y_test)"
   ]
  },
  {
   "cell_type": "code",
   "execution_count": 14,
   "id": "80bd994a",
   "metadata": {},
   "outputs": [
    {
     "name": "stdout",
     "output_type": "stream",
     "text": [
      "[2 1 0 1 1 0 1 0 0 2 2 1 0 0 1 1 2 1 0 1 1 0 0 2 2 0 2 0 1 2]\n"
     ]
    }
   ],
   "source": [
    "print(y_pred)"
   ]
  },
  {
   "cell_type": "code",
   "execution_count": 15,
   "id": "c4cf2d22",
   "metadata": {},
   "outputs": [
    {
     "name": "stdout",
     "output_type": "stream",
     "text": [
      "              precision    recall  f1-score   support\n",
      "\n",
      "           0       0.73      1.00      0.84         8\n",
      "           1       0.73      0.73      0.73        11\n",
      "           2       1.00      0.73      0.84        11\n",
      "\n",
      "    accuracy                           0.80        30\n",
      "   macro avg       0.82      0.82      0.80        30\n",
      "weighted avg       0.83      0.80      0.80        30\n",
      "\n"
     ]
    }
   ],
   "source": [
    "print(classification_report(y_test, y_pred))"
   ]
  },
  {
   "cell_type": "code",
   "execution_count": null,
   "id": "91305ef0",
   "metadata": {},
   "outputs": [],
   "source": []
  }
 ],
 "metadata": {
  "kernelspec": {
   "display_name": "Python 3",
   "language": "python",
   "name": "python3"
  },
  "language_info": {
   "codemirror_mode": {
    "name": "ipython",
    "version": 3
   },
   "file_extension": ".py",
   "mimetype": "text/x-python",
   "name": "python",
   "nbconvert_exporter": "python",
   "pygments_lexer": "ipython3",
   "version": "3.8.3"
  }
 },
 "nbformat": 4,
 "nbformat_minor": 5
}
