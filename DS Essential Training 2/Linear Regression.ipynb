{
 "cells": [
  {
   "cell_type": "markdown",
   "id": "4965606a",
   "metadata": {},
   "source": [
    "# Chapter 3 - Regression Models\n",
    "\n",
    "## Segment 1 - Simple linear regression"
   ]
  },
  {
   "cell_type": "code",
   "execution_count": 1,
   "id": "e363c17a",
   "metadata": {},
   "outputs": [],
   "source": [
    "import numpy as np\n",
    "import pandas as pd\n",
    "import matplotlib.pyplot as plt\n",
    "import sklearn\n",
    "\n",
    "from pylab import rcParams\n",
    "\n",
    "from sklearn.linear_model import LinearRegression\n",
    "from sklearn.preprocessing import scale"
   ]
  },
  {
   "cell_type": "code",
   "execution_count": 2,
   "id": "b357e1d2",
   "metadata": {},
   "outputs": [],
   "source": [
    "%matplotlib inline\n",
    "rcParams['figure.figsize'] = 10, 8"
   ]
  },
  {
   "cell_type": "code",
   "execution_count": 4,
   "id": "f9e3830d",
   "metadata": {},
   "outputs": [
    {
     "data": {
      "text/plain": [
       "array([[3.2630591 ],\n",
       "       [3.26598668],\n",
       "       [3.19339098],\n",
       "       [4.91429069],\n",
       "       [3.30546483],\n",
       "       [3.83758494],\n",
       "       [3.69948733],\n",
       "       [4.60488418],\n",
       "       [4.90367363],\n",
       "       [3.33215654]])"
      ]
     },
     "execution_count": 4,
     "metadata": {},
     "output_type": "execute_result"
    }
   ],
   "source": [
    "rooms = 2*np.random.rand(100, 1) +3\n",
    "rooms[:10]"
   ]
  },
  {
   "cell_type": "code",
   "execution_count": 5,
   "id": "4f86073e",
   "metadata": {},
   "outputs": [
    {
     "data": {
      "text/plain": [
       "array([[284.91576794],\n",
       "       [284.74649449],\n",
       "       [284.33403684],\n",
       "       [294.77921867],\n",
       "       [286.68929683],\n",
       "       [289.05331389],\n",
       "       [288.04896168],\n",
       "       [292.76407116],\n",
       "       [295.60501641],\n",
       "       [285.91178587]])"
      ]
     },
     "execution_count": 5,
     "metadata": {},
     "output_type": "execute_result"
    }
   ],
   "source": [
    "price = 265+ 6*rooms + abs(np.random.randn(100,1))\n",
    "price[:10]"
   ]
  },
  {
   "cell_type": "code",
   "execution_count": 8,
   "id": "d5ddac61",
   "metadata": {},
   "outputs": [
    {
     "data": {
      "image/png": "[encoded data removed]",
      "text/plain": [
       "<Figure size 720x576 with 1 Axes>"
      ]
     },
     "metadata": {
      "needs_background": "light"
     },
     "output_type": "display_data"
    }
   ],
   "source": [
    "plt.plot(rooms, price, 'r^')\n",
    "plt.xlabel('# of rooms, 2019 average')\n",
    "plt.ylabel('2019 average home, 1000s of USD')\n",
    "plt.show()"
   ]
  },
  {
   "cell_type": "code",
   "execution_count": 12,
   "id": "c41c121a",
   "metadata": {},
   "outputs": [
    {
     "name": "stdout",
     "output_type": "stream",
     "text": [
      "[265.79128485] [[6.0121761]]\n"
     ]
    }
   ],
   "source": [
    "X = rooms\n",
    "y = price\n",
    "\n",
    "LinReg = LinearRegression()\n",
    "\n",
    "LinReg.fit(X,y)\n",
    "\n",
    "print(LinReg.intercept_, LinReg.coef_)"
   ]
  },
  {
   "cell_type": "markdown",
   "id": "db0d7809",
   "metadata": {},
   "source": [
    "*Simple aljebra*\n",
    "- y = mx + b\n",
    "- b = intercept = 265.8\n",
    "\n",
    "*Estimated Coefficients*\n",
    "- LinReg.coef_ = [6.012] Estimated coefficients for the terms of the linear regression problem."
   ]
  },
  {
   "cell_type": "code",
   "execution_count": null,
   "id": "c6e95cd2",
   "metadata": {},
   "outputs": [],
   "source": []
  }
 ],
 "metadata": {
  "kernelspec": {
   "display_name": "Python 3",
   "language": "python",
   "name": "python3"
  },
  "language_info": {
   "codemirror_mode": {
    "name": "ipython",
    "version": 3
   },
   "file_extension": ".py",
   "mimetype": "text/x-python",
   "name": "python",
   "nbconvert_exporter": "python",
   "pygments_lexer": "ipython3",
   "version": "3.8.3"
  }
 },
 "nbformat": 4,
 "nbformat_minor": 5
}
