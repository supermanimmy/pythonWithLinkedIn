{
 "cells": [
  {
   "cell_type": "markdown",
   "id": "edd32734",
   "metadata": {},
   "source": [
    "# Chapter 6 - Other Popular Machine Learning Models\n",
    "## Segment 3- Instance-based learning w/ K-Nearest Neighbor\n",
    "\n",
    "### Setting up for classification analysis"
   ]
  },
  {
   "cell_type": "code",
   "execution_count": 4,
   "id": "5149ec6f",
   "metadata": {},
   "outputs": [],
   "source": [
    "import numpy as np\n",
    "import pandas as pd \n",
    "import scipy\n",
    "import urllib\n",
    "import sklearn\n",
    "\n",
    "import matplotlib.pyplot as plt\n",
    "from pylab import rcParams\n",
    "\n",
    "from sklearn import neighbors\n",
    "from sklearn import preprocessing\n",
    "from sklearn.model_selection import train_test_split\n",
    "from sklearn import metrics"
   ]
  },
  {
   "cell_type": "code",
   "execution_count": 5,
   "id": "9003431d",
   "metadata": {},
   "outputs": [],
   "source": [
    "from sklearn.neighbors import KNeighborsClassifier"
   ]
  },
  {
   "cell_type": "code",
   "execution_count": 6,
   "id": "ff1f3d5f",
   "metadata": {},
   "outputs": [],
   "source": [
    "np.set_printoptions(precision=4, suppress=True)\n",
    "%matplotlib inline\n",
    "rcParams['figure.figsize'] = 7,4\n",
    "plt.style.use('seaborn-whitegrid')"
   ]
  },
  {
   "cell_type": "markdown",
   "id": "d9378a9d",
   "metadata": {},
   "source": [
    "## Importing your data"
   ]
  },
  {
   "cell_type": "code",
   "execution_count": 10,
   "id": "129e32e4",
   "metadata": {},
   "outputs": [],
   "source": [
    "address = 'C:/Users/imran/OneDrive/Documents/GitHub/pythonLinkedIn/pythonWithLinkedIn/DS Essential Training 1/Data/mtcars.csv'\n",
    "\n",
    "cars = pd.read_csv(address)\n",
    "\n",
    "cars.columns = ['car_names', 'mpg', 'cyl', 'disp', 'hp', 'drat', 'wt', 'qsec', 'vs', 'am', 'gear', 'carb' ]\n",
    "X_prime = cars[['mpg', 'disp', 'hp', 'wt']].values\n",
    "y = cars.iloc[:,9].values"
   ]
  },
  {
   "cell_type": "code",
   "execution_count": 11,
   "id": "0923f966",
   "metadata": {},
   "outputs": [],
   "source": [
    "X= preprocessing.scale(X_prime)"
   ]
  },
  {
   "cell_type": "code",
   "execution_count": 12,
   "id": "e1d73f3c",
   "metadata": {},
   "outputs": [],
   "source": [
    "X_train, X_test, y_train, y_test =train_test_split(X, y, test_size=0.2, random_state=17)"
   ]
  },
  {
   "cell_type": "markdown",
   "id": "67112c76",
   "metadata": {},
   "source": [
    "## Building and training your model with training data"
   ]
  },
  {
   "cell_type": "code",
   "execution_count": 13,
   "id": "919d2eee",
   "metadata": {},
   "outputs": [
    {
     "name": "stdout",
     "output_type": "stream",
     "text": [
      "KNeighborsClassifier()\n"
     ]
    }
   ],
   "source": [
    "clf = neighbors.KNeighborsClassifier()\n",
    "clf.fit(X_train, y_train)\n",
    "print(clf)"
   ]
  },
  {
   "cell_type": "markdown",
   "id": "71e524d3",
   "metadata": {},
   "source": [
    "## Evaluating your model's predictions"
   ]
  },
  {
   "cell_type": "code",
   "execution_count": 15,
   "id": "b342b453",
   "metadata": {},
   "outputs": [
    {
     "name": "stdout",
     "output_type": "stream",
     "text": [
      "              precision    recall  f1-score   support\n",
      "\n",
      "           0       0.80      1.00      0.89         4\n",
      "           1       1.00      0.67      0.80         3\n",
      "\n",
      "    accuracy                           0.86         7\n",
      "   macro avg       0.90      0.83      0.84         7\n",
      "weighted avg       0.89      0.86      0.85         7\n",
      "\n"
     ]
    }
   ],
   "source": [
    "y_pred = clf.predict(X_test)\n",
    "y_expect = y_test\n",
    "\n",
    "print(metrics.classification_report(y_expect, y_pred))"
   ]
  },
  {
   "cell_type": "markdown",
   "id": "3e286b06",
   "metadata": {},
   "source": [
    "<b> Recall: </b> a measure of model's completeness. This data is saying that out of all your points that were labeled 1, only 67% of the results were returned were truly relevant. Of the entire dataset, 83% of the results that were returned were truly relevant.\n",
    "<b> High Precision + Low recall= Few results returned, but many of the label predictions that are returend are correct. </b>\n",
    "<b> Recall: </b>\n",
    "<b> Recall: </b>"
   ]
  },
  {
   "cell_type": "code",
   "execution_count": null,
   "id": "afebd298",
   "metadata": {},
   "outputs": [],
   "source": []
  }
 ],
 "metadata": {
  "kernelspec": {
   "display_name": "Python 3",
   "language": "python",
   "name": "python3"
  },
  "language_info": {
   "codemirror_mode": {
    "name": "ipython",
    "version": 3
   },
   "file_extension": ".py",
   "mimetype": "text/x-python",
   "name": "python",
   "nbconvert_exporter": "python",
   "pygments_lexer": "ipython3",
   "version": "3.8.3"
  }
 },
 "nbformat": 4,
 "nbformat_minor": 5
}
